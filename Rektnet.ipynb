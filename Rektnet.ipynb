{
  "nbformat": 4,
  "nbformat_minor": 0,
  "metadata": {
    "colab": {
      "name": "Rektnet.ipynb",
      "provenance": []
    },
    "kernelspec": {
      "name": "python3",
      "display_name": "Python 3"
    },
    "accelerator": "GPU"
  },
  "cells": [
    {
      "cell_type": "code",
      "metadata": {
        "colab": {
          "base_uri": "https://localhost:8080/"
        },
        "id": "7UStAXqbSPuj",
        "outputId": "68479acf-ef96-4d13-e152-7dc19b3ae3c0"
      },
      "source": [
        "!git clone https://github.com/cv-core/MIT-Driverless-CV-TrainingInfra"
      ],
      "execution_count": 1,
      "outputs": [
        {
          "output_type": "stream",
          "name": "stdout",
          "text": [
            "Cloning into 'MIT-Driverless-CV-TrainingInfra'...\n",
            "remote: Enumerating objects: 826, done.\u001b[K\n",
            "remote: Counting objects: 100% (206/206), done.\u001b[K\n",
            "remote: Compressing objects: 100% (149/149), done.\u001b[K\n",
            "remote: Total 826 (delta 140), reused 111 (delta 57), pack-reused 620\u001b[K\n",
            "Receiving objects: 100% (826/826), 9.65 MiB | 23.88 MiB/s, done.\n",
            "Resolving deltas: 100% (530/530), done.\n"
          ]
        }
      ]
    },
    {
      "cell_type": "code",
      "metadata": {
        "id": "CeAzVpVQUaRP",
        "colab": {
          "base_uri": "https://localhost:8080/"
        },
        "outputId": "c42205e3-d0f1-4101-ddf0-b849c02d907d"
      },
      "source": [
        "import cv2\n",
        "import numpy as np\n",
        "import torch\n",
        "import torchvision\n",
        "import pandas as pd\n",
        "import tqdm\n",
        "from google.colab import drive\n",
        "drive.mount('/content/gdrive', force_remount=True)\n",
        "\n",
        "!ln -s /content/gdrive/My\\ Drive/ /mydrive\n",
        "#!ls /mydrive/'FSCOCO dataset'"
      ],
      "execution_count": null,
      "outputs": [
        {
          "output_type": "stream",
          "name": "stdout",
          "text": [
            "Mounted at /content/gdrive\n"
          ]
        }
      ]
    },
    {
      "cell_type": "code",
      "metadata": {
        "colab": {
          "base_uri": "https://localhost:8080/"
        },
        "id": "CPxSWrryVWas",
        "outputId": "de5f1ff6-5504-4b65-c743-7455aafe2edf"
      },
      "source": [
        "%cd /content/MIT-Driverless-CV-TrainingInfra/RektNet\n",
        "!gsutil cp -p gs://mit-driverless-open-source/RektNet_Dataset.zip ./dataset/\n",
        "# !unzip -q dataset/RektNet_Dataset.zip -d ./dataset/\n",
        "!gsutil cp -p gs://mit-driverless-open-source/rektnet-training/rektnet_label.csv ./dataset/"
      ],
      "execution_count": 2,
      "outputs": [
        {
          "output_type": "stream",
          "name": "stdout",
          "text": [
            "/content/MIT-Driverless-CV-TrainingInfra/RektNet\n",
            "Copying gs://mit-driverless-open-source/RektNet_Dataset.zip...\n",
            "\\ [1 files][ 78.3 MiB/ 78.3 MiB]                                                \n",
            "Operation completed over 1 objects/78.3 MiB.                                     \n",
            "Copying gs://mit-driverless-open-source/rektnet-training/rektnet_label.csv...\n",
            "/ [1 files][323.1 KiB/323.1 KiB]                                                \n",
            "Operation completed over 1 objects/323.1 KiB.                                    \n"
          ]
        }
      ]
    },
    {
      "cell_type": "code",
      "metadata": {
        "id": "gnS-yzuyf0zn",
        "colab": {
          "base_uri": "https://localhost:8080/"
        },
        "outputId": "3ed8badb-e413-409a-dd07-396f92946297"
      },
      "source": [
        "#!cp -r ./dataset -d /mydrive/RektNet/ \n",
        "!gsutil cp -p gs://mit-driverless-open-source/rektnet-training/rektnet_label.csv /mydrive/RektNet/ "
      ],
      "execution_count": null,
      "outputs": [
        {
          "output_type": "stream",
          "name": "stdout",
          "text": [
            "Copying gs://mit-driverless-open-source/rektnet-training/rektnet_label.csv...\n",
            "/ [1 files][323.1 KiB/323.1 KiB]                                                \n",
            "Operation completed over 1 objects/323.1 KiB.                                    \n"
          ]
        }
      ]
    },
    {
      "cell_type": "code",
      "metadata": {
        "colab": {
          "base_uri": "https://localhost:8080/"
        },
        "id": "OLUWLKT0VzKK",
        "outputId": "f0955917-f1c9-4a47-fc15-fdd803a9d06f"
      },
      "source": [
        "!python3 train_eval.py --study_name=TRAIN1"
      ],
      "execution_count": null,
      "outputs": [
        {
          "output_type": "stream",
          "text": [
            "Program arguments: Namespace(batch_size=32, checkpoint_interval=4, dataset_path='dataset/RektNet_Dataset/', evaluate_mode=False, geo_loss=True, geo_loss_gamma_horz=0, geo_loss_gamma_vert=0, input_size=80, loss_type='l1_softargmax', lr=0.1, lr_gamma=0.999, num_epochs=1024, output_path='automatic', save_checkpoints=True, study_name='TRAIN1', train_dataset_uri='dataset/rektnet_label.csv', validation_ratio=0.15, vis_dataloader=False, vis_upload_data=False)\n",
            "Caches do not exist!\n",
            "Processing Image Dataset: 100%|##########| 3197/3197 [00:00<00:00, 10294.59it/s]\n",
            "Saving cache...\n",
            "./gs/03083f6f8ab6011e5825cf091cb9f452ad56af70975455445b42e72c323f8de2/images.npy ./gs/03083f6f8ab6011e5825cf091cb9f452ad56af70975455445b42e72c323f8de2/labels.npy\n",
            "training image number: 2718\n",
            "validation image number: 479\n",
            "Including geometric loss: True\n",
            "Loss type: l1_softargmax\n",
            "EPOCH 0\n",
            "Batch 84. Location Loss: 0.53264. Geo Loss: 0.0. Total Loss: 0.53264: 100%|##########| 85/85 [00:29<00:00,  2.88it/s]\n",
            "\tTraining: MSE/Geometric/Total Loss: 1.2578285442/0.0/1.2578285442\n",
            "\tStarting validation...\n",
            "\tValidation: MSE/Geometric/Total Loss: 0.5864786199/0.0/0.5864786199\n",
            "Saving ONNX model to outputs/february-2021-experiments/TRAIN1/best_keypoints_8080.onnx\n",
            "EPOCH 1\n",
            "Batch 84. Location Loss: 0.50718. Geo Loss: 0.0. Total Loss: 0.50718: 100%|##########| 85/85 [00:29<00:00,  2.86it/s]\n",
            "\tTraining: MSE/Geometric/Total Loss: 0.6420766873/0.0/0.6420766873\n",
            "\tStarting validation...\n",
            "\tValidation: MSE/Geometric/Total Loss: 0.5065540034/0.0/0.5065540034\n",
            "Saving ONNX model to outputs/february-2021-experiments/TRAIN1/best_keypoints_8080.onnx\n",
            "EPOCH 2\n",
            "Batch 84. Location Loss: 0.47492. Geo Loss: 0.0. Total Loss: 0.47492: 100%|##########| 85/85 [00:30<00:00,  2.81it/s]\n",
            "\tTraining: MSE/Geometric/Total Loss: 0.6114191038/0.0/0.6114191038\n",
            "\tStarting validation...\n",
            "\tValidation: MSE/Geometric/Total Loss: 0.4667558523/0.0/0.4667558523\n",
            "Saving ONNX model to outputs/february-2021-experiments/TRAIN1/best_keypoints_8080.onnx\n",
            "EPOCH 3\n",
            "Batch 84. Location Loss: 0.46239. Geo Loss: 0.0. Total Loss: 0.46239: 100%|##########| 85/85 [00:30<00:00,  2.76it/s]\n",
            "\tTraining: MSE/Geometric/Total Loss: 0.6029906308/0.0/0.6029906308\n",
            "\tStarting validation...\n",
            "\tValidation: MSE/Geometric/Total Loss: 0.4666124466/0.0/0.4666124466\n",
            "Saving ONNX model to outputs/february-2021-experiments/TRAIN1/best_keypoints_8080.onnx\n",
            "Saving model to outputs/february-2021-experiments/TRAIN1/3_loss_0.47.pt\n",
            "EPOCH 4\n",
            "Batch 84. Location Loss: 0.47144. Geo Loss: 0.0. Total Loss: 0.47144: 100%|##########| 85/85 [00:30<00:00,  2.78it/s]\n",
            "\tTraining: MSE/Geometric/Total Loss: 0.583053342/0.0/0.583053342\n",
            "\tStarting validation...\n",
            "\tValidation: MSE/Geometric/Total Loss: 0.4654021375/0.0/0.4654021375\n",
            "Saving ONNX model to outputs/february-2021-experiments/TRAIN1/best_keypoints_8080.onnx\n",
            "EPOCH 5\n",
            "Batch 84. Location Loss: 0.45866. Geo Loss: 0.0. Total Loss: 0.45866: 100%|##########| 85/85 [00:30<00:00,  2.78it/s]\n",
            "\tTraining: MSE/Geometric/Total Loss: 0.5696624703/0.0/0.5696624703\n",
            "\tStarting validation...\n",
            "\tValidation: MSE/Geometric/Total Loss: 0.4557936261/0.0/0.4557936261\n",
            "Saving ONNX model to outputs/february-2021-experiments/TRAIN1/best_keypoints_8080.onnx\n",
            "EPOCH 6\n",
            "Batch 84. Location Loss: 0.44809. Geo Loss: 0.0. Total Loss: 0.44809: 100%|##########| 85/85 [00:30<00:00,  2.77it/s]\n",
            "\tTraining: MSE/Geometric/Total Loss: 0.5413288734/0.0/0.5413288734\n",
            "\tStarting validation...\n",
            "\tValidation: MSE/Geometric/Total Loss: 0.4431662287/0.0/0.4431662287\n",
            "Saving ONNX model to outputs/february-2021-experiments/TRAIN1/best_keypoints_8080.onnx\n",
            "EPOCH 7\n",
            "Batch 84. Location Loss: 0.42675. Geo Loss: 0.0. Total Loss: 0.42675: 100%|##########| 85/85 [00:30<00:00,  2.78it/s]\n",
            "\tTraining: MSE/Geometric/Total Loss: 0.5289420812/0.0/0.5289420812\n",
            "\tStarting validation...\n",
            "\tValidation: MSE/Geometric/Total Loss: 0.4193365205/0.0/0.4193365205\n",
            "Saving ONNX model to outputs/february-2021-experiments/TRAIN1/best_keypoints_8080.onnx\n",
            "Saving model to outputs/february-2021-experiments/TRAIN1/7_loss_0.42.pt\n",
            "EPOCH 8\n",
            "Batch 84. Location Loss: 0.40817. Geo Loss: 0.0. Total Loss: 0.40817: 100%|##########| 85/85 [00:30<00:00,  2.77it/s]\n",
            "\tTraining: MSE/Geometric/Total Loss: 0.5193559531/0.0/0.5193559531\n",
            "\tStarting validation...\n",
            "\tValidation: MSE/Geometric/Total Loss: 0.3833782554/0.0/0.3833782554\n",
            "Saving ONNX model to outputs/february-2021-experiments/TRAIN1/best_keypoints_8080.onnx\n",
            "EPOCH 9\n",
            "Batch 84. Location Loss: 0.43099. Geo Loss: 0.0. Total Loss: 0.43099: 100%|##########| 85/85 [00:30<00:00,  2.78it/s]\n",
            "\tTraining: MSE/Geometric/Total Loss: 0.5013024874/0.0/0.5013024874\n",
            "\tStarting validation...\n",
            "\tValidation: MSE/Geometric/Total Loss: 0.4107123628/0.0/0.4107123628\n",
            "EPOCH 10\n",
            "Batch 84. Location Loss: 0.41369. Geo Loss: 0.0. Total Loss: 0.41369: 100%|##########| 85/85 [00:30<00:00,  2.77it/s]\n",
            "\tTraining: MSE/Geometric/Total Loss: 0.5016343969/0.0/0.5016343969\n",
            "\tStarting validation...\n",
            "\tValidation: MSE/Geometric/Total Loss: 0.4211102333/0.0/0.4211102333\n",
            "EPOCH 11\n",
            "Batch 84. Location Loss: 0.39327. Geo Loss: 0.0. Total Loss: 0.39327: 100%|##########| 85/85 [00:30<00:00,  2.77it/s]\n",
            "\tTraining: MSE/Geometric/Total Loss: 0.4887391774/0.0/0.4887391774\n",
            "\tStarting validation...\n",
            "\tValidation: MSE/Geometric/Total Loss: 0.4226978222/0.0/0.4226978222\n",
            "Saving model to outputs/february-2021-experiments/TRAIN1/11_loss_0.42.pt\n",
            "EPOCH 12\n",
            "Batch 84. Location Loss: 0.38657. Geo Loss: 0.0. Total Loss: 0.38657: 100%|##########| 85/85 [00:30<00:00,  2.78it/s]\n",
            "\tTraining: MSE/Geometric/Total Loss: 0.4811207743/0.0/0.4811207743\n",
            "\tStarting validation...\n",
            "\tValidation: MSE/Geometric/Total Loss: 0.4001353936/0.0/0.4001353936\n",
            "EPOCH 13\n",
            "Batch 84. Location Loss: 0.39174. Geo Loss: 0.0. Total Loss: 0.39174: 100%|##########| 85/85 [00:30<00:00,  2.77it/s]\n",
            "\tTraining: MSE/Geometric/Total Loss: 0.4699526696/0.0/0.4699526696\n",
            "\tStarting validation...\n",
            "\tValidation: MSE/Geometric/Total Loss: 0.4245868407/0.0/0.4245868407\n",
            "EPOCH 14\n",
            "Batch 84. Location Loss: 0.37481. Geo Loss: 0.0. Total Loss: 0.37481: 100%|##########| 85/85 [00:30<00:00,  2.78it/s]\n",
            "\tTraining: MSE/Geometric/Total Loss: 0.4666680557/0.0/0.4666680557\n",
            "\tStarting validation...\n",
            "\tValidation: MSE/Geometric/Total Loss: 0.3913531669/0.0/0.3913531669\n",
            "EPOCH 15\n",
            "Batch 84. Location Loss: 0.3662. Geo Loss: 0.0. Total Loss: 0.3662: 100%|##########| 85/85 [00:30<00:00,  2.77it/s]\n",
            "\tTraining: MSE/Geometric/Total Loss: 0.4545876373/0.0/0.4545876373\n",
            "\tStarting validation...\n",
            "\tValidation: MSE/Geometric/Total Loss: 0.3960991977/0.0/0.3960991977\n",
            "Saving model to outputs/february-2021-experiments/TRAIN1/15_loss_0.4.pt\n",
            "EPOCH 16\n",
            "Batch 84. Location Loss: 0.37401. Geo Loss: 0.0. Total Loss: 0.37401: 100%|##########| 85/85 [00:30<00:00,  2.78it/s]\n",
            "\tTraining: MSE/Geometric/Total Loss: 0.4528339049/0.0/0.4528339049\n",
            "\tStarting validation...\n",
            "\tValidation: MSE/Geometric/Total Loss: 0.4011033799/0.0/0.4011033799\n",
            "Training is stopped due; loss no longer decreases. Epoch 8 is has the best validation loss.\n"
          ],
          "name": "stdout"
        }
      ]
    },
    {
      "cell_type": "code",
      "metadata": {
        "colab": {
          "base_uri": "https://localhost:8080/"
        },
        "id": "7e_DL-BpX9zG",
        "outputId": "91bccdc1-4284-49bb-ae94-0ce93d3e965b"
      },
      "source": [
        "!python3 detect.py --model=/content/MIT-Driverless-CV-TrainingInfra/RektNet/outputs/february-2021-experiments/TRAIN1/15_loss_0.4.pt --img=/content/MIT-Driverless-CV-TrainingInfra/RektNet/dataset/RektNet_Dataset/vid_100_frame_41_1.jpg"
      ],
      "execution_count": null,
      "outputs": [
        {
          "output_type": "stream",
          "text": [
            "please check the output image here: ('outputs/visualization/vid_100_frame_41_1_hm.jpg', array([[1.14742004e+00, 3.99062661e+00, 3.67586409e+00, ...,\n",
            "        1.64502566e+00, 1.37380987e+00, 6.66983316e-01],\n",
            "       [2.42180432e+00, 1.30833174e+01, 4.62987486e+00, ...,\n",
            "        1.46642966e+00, 2.00828629e+00, 1.27783319e+00],\n",
            "       [3.87967352e+00, 2.59866612e+01, 8.69126033e+00, ...,\n",
            "        2.52396920e+00, 3.59769184e+00, 1.55846702e+00],\n",
            "       ...,\n",
            "       [4.88117540e-02, 8.66920420e-03, 3.36629002e-03, ...,\n",
            "        1.60376095e-03, 5.83591351e-03, 4.02306120e+00],\n",
            "       [5.73478067e-02, 1.54449058e-02, 1.04755722e-02, ...,\n",
            "        7.31926123e-03, 1.42044356e-02, 4.50710583e+00],\n",
            "       [1.99275082e+00, 3.44303016e+00, 2.71374646e+00, ...,\n",
            "        3.54264443e+00, 5.04885558e+00, 2.55000000e+02]]))\n"
          ],
          "name": "stdout"
        }
      ]
    },
    {
      "cell_type": "code",
      "metadata": {
        "id": "lqReBQXCEG0S"
      },
      "source": [
        "!cp -r /content/MIT-Driverless-CV-TrainingInfra/RektNet/outputs/february-2021-experiments/TRAIN1 -d /mydrive/RektNet\n",
        "!cp /content/MIT-Driverless-CV-TrainingInfra/RektNet/outputs/visualization/vid_100_frame_41_1_inference.jpg -d /mydrive/RektNet"
      ],
      "execution_count": null,
      "outputs": []
    },
    {
      "cell_type": "code",
      "metadata": {
        "id": "ydzuSFPRFruk"
      },
      "source": [
        ""
      ],
      "execution_count": null,
      "outputs": []
    }
  ]
}